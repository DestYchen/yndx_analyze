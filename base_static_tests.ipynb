{
 "cells": [
  {
   "cell_type": "markdown",
   "id": "a5254224",
   "metadata": {},
   "source": [
    "Допустим, мы хотим узнать, какие книги чаще становятся популярными — художественные или нехудожественные.\n",
    "Мы можем сформулировать следующую нулевую гипотезу: «Вероятность встретить художественную и нехудожественную\n",
    "книгу в нашей подборке равна»."
   ]
  },
  {
   "cell_type": "code",
   "execution_count": 9,
   "id": "6a93fbe2",
   "metadata": {},
   "outputs": [
    {
     "name": "stdout",
     "output_type": "stream",
     "text": [
      "[310, 240]\n"
     ]
    },
    {
     "data": {
      "text/plain": [
       "0.0032232676763761965"
      ]
     },
     "execution_count": 9,
     "metadata": {},
     "output_type": "execute_result"
    }
   ],
   "source": [
    "import pandas as pd\n",
    "from scipy.stats import binom_test\n",
    "df = pd.read_csv('bestsellers with categories.csv')\n",
    "bins = df['Genre'].value_counts().tolist()\n",
    "print(bins)\n",
    "binom_test(bins)"
   ]
  },
  {
   "cell_type": "markdown",
   "id": "687b480a",
   "metadata": {},
   "source": [
    "Мы проверяем вероятность получить результат статистического теста такой же, как тот, что мы сейчас наблюдаем,\n",
    "в реальности, где нулевая гипотеза верна. Вероятность небольшая, поскольку она меньше 0.05, — поэтому мы можем отвергнуть\n",
    "нулевую гипотезу «Вероятность встретить художественную и нехудожественную книгу в нашей подборке равна»."
   ]
  },
  {
   "cell_type": "code",
   "execution_count": 7,
   "id": "e7e71ccd",
   "metadata": {},
   "outputs": [
    {
     "data": {
      "text/plain": [
       "array(['Non Fiction', 'Fiction'], dtype=object)"
      ]
     },
     "execution_count": 7,
     "metadata": {},
     "output_type": "execute_result"
    }
   ],
   "source": [
    "df['Genre'].unique()"
   ]
  },
  {
   "cell_type": "markdown",
   "id": "8a877607",
   "metadata": {},
   "source": [
    "Проверка равенства средних значений в двух выборках (t-тест)\n",
    "\n",
    "Попробуем узнать, как отличается рейтинг между художественными и нехудожественными текстами.\n",
    "Есть ли между ними значимые различия?\n",
    "\n",
    "Для этого мы проведём t-тест. Наша нулевая гипотеза: между средними оценками художественных и нехудожественных книг\n",
    "нет значимого отличия.\n",
    "\n",
    "У нас есть данные обо всех бестселлерах. Давайте сформируем из них две случайные выборки, средние в которых сравним.\n",
    "\n",
    "Сначала нам нужно проверить нормальность распределения средних в выборке. Для этого мы можем использовать тест Шапиро — Уилка.\n",
    "Однако нам нужно много выборок, чтобы убедиться в том, что среднее значение в них действительно распределено нормально.\n",
    "Давайте выделим из наших данных 500 выборок и посчитаем для каждой среднее значение.\n",
    "\n",
    "Для этого мы напишем цикл while, который запустим 500 раз. Для этого будем считать с помощью переменной n количество итераций\n",
    "цикла. Когда она станет равна 500 — остановимся.\n",
    "\n",
    "Внутри цикла мы каждый раз будем случайным образом брать сто случайных нехудожественных книг и вычислять их среднюю оценку.\n",
    "Получившийся результат запишем в список."
   ]
  },
  {
   "cell_type": "code",
   "execution_count": 13,
   "id": "2abdbda9",
   "metadata": {},
   "outputs": [
    {
     "data": {
      "text/plain": [
       "ShapiroResult(statistic=0.9984325170516968, pvalue=0.938539981842041)"
      ]
     },
     "execution_count": 13,
     "metadata": {},
     "output_type": "execute_result"
    }
   ],
   "source": [
    "from scipy.stats import shapiro\n",
    "means_fic = []\n",
    "n = 1\n",
    "\n",
    "while n < 500:\n",
    "    n += 1\n",
    "    sample = df[df['Genre'] == \"Non Fiction\"].sample(100)['User Rating'].mean()\n",
    "    means_fic.append(sample)\n",
    "\n",
    "shapiro(means_fic)"
   ]
  },
  {
   "cell_type": "markdown",
   "id": "e243b894",
   "metadata": {},
   "source": [
    "Далее нам нужно узнать, равны ли дисперсии по группам. И в зависимости от этого уточнить дополнительный параметр для t-теста.\n",
    "В Python для проверки критерия Левене мы будем использовать функцию levene из пакета scipy.\n",
    "Прежде чем проводить тест, снова выделим две случайные выборки, которые будем сравнивать между собой"
   ]
  },
  {
   "cell_type": "code",
   "execution_count": 24,
   "id": "bb91242d",
   "metadata": {},
   "outputs": [
    {
     "data": {
      "text/plain": [
       "LeveneResult(statistic=2.90915750915751, pvalue=0.08964603884994217)"
      ]
     },
     "execution_count": 24,
     "metadata": {},
     "output_type": "execute_result"
    }
   ],
   "source": [
    "from scipy.stats import levene\n",
    "user_rating_fic = df[df['Genre'] == \"Fiction\"].sample(100)['User Rating']\n",
    "user_rating_non = df[df['Genre'] == \"Non Fiction\"].sample(100)['User Rating']\n",
    "levene(user_rating_fic, user_rating_non)"
   ]
  },
  {
   "cell_type": "markdown",
   "id": "11476aa0",
   "metadata": {},
   "source": [
    "Вернёмся к интерпретации результата. Мы видим, что p-value большой, а значит, принимаем нулевую гипотезу о равенстве дисперсий.\n",
    "Нам нужно отразить это в t-тесте."
   ]
  },
  {
   "cell_type": "code",
   "execution_count": 16,
   "id": "e0e6f900",
   "metadata": {},
   "outputs": [
    {
     "data": {
      "text/plain": [
       "Ttest_indResult(statistic=2.424419238829392, pvalue=0.016230942748072505)"
      ]
     },
     "execution_count": 16,
     "metadata": {},
     "output_type": "execute_result"
    }
   ],
   "source": [
    "from scipy.stats import ttest_ind\n",
    "ttest_ind(user_rating_fic, user_rating_non, equal_var=True)"
   ]
  },
  {
   "cell_type": "markdown",
   "id": "09303f78",
   "metadata": {},
   "source": [
    "Учитываем, что дисперсии не равны, с помощью параметра equal_var, который применяет поправку Уэлча.\n",
    "Так как p-value меньше 0.05, то мы не можем принять нулевую гипотезу о том, что средние оценки книг не различаются\n",
    "в зависимости от жанра. То есть жанр связан с оценкой книг."
   ]
  },
  {
   "cell_type": "code",
   "execution_count": 17,
   "id": "30ce2dee",
   "metadata": {},
   "outputs": [
    {
     "name": "stdout",
     "output_type": "stream",
     "text": [
      "4.648 4.567\n"
     ]
    }
   ],
   "source": [
    "from statistics import mean\n",
    "print(mean(user_rating_fic), mean(user_rating_non))"
   ]
  },
  {
   "cell_type": "markdown",
   "id": "a491b3fb",
   "metadata": {},
   "source": [
    "Мы видим, что средняя оценка художественных книг оказывается значимо выше, чем нехудожественных.\n",
    "Это может быть связано с тем, что оценка художественных книг зависит от того, нравятся они \n",
    "или не нравятся, а нехудожественных — от того, воспринимаются ли они как полезные или нет."
   ]
  },
  {
   "cell_type": "markdown",
   "id": "a0d6736c",
   "metadata": {},
   "source": [
    "ANOVA\n",
    "Теперь мы можем проверить, отличаются ли средние оценки книг за три последних года? \n",
    "Поскольку групп наблюдения у нас больше двух, применим тест ANOVA. Наша нулевая гипотеза звучит так:\n",
    "«За последние три года книги в среднем оценивали одинаково»."
   ]
  },
  {
   "cell_type": "code",
   "execution_count": 18,
   "id": "65c16ebf",
   "metadata": {},
   "outputs": [
    {
     "data": {
      "text/plain": [
       "F_onewayResult(statistic=2.99211541687636, pvalue=0.05324686656835848)"
      ]
     },
     "execution_count": 18,
     "metadata": {},
     "output_type": "execute_result"
    }
   ],
   "source": [
    "from scipy.stats import f_oneway\n",
    "ur_2019 = df[(df['Year'] == 2019)]['User Rating']\n",
    "ur_2018 = df[(df['Year'] == 2018)]['User Rating']\n",
    "ur_2017 = df[(df['Year'] == 2017)]['User Rating']\n",
    "f_oneway(ur_2019, ur_2018, ur_2017)"
   ]
  },
  {
   "cell_type": "markdown",
   "id": "db5f55a9",
   "metadata": {},
   "source": [
    "Опираясь на порог p-value (0.053 > 0.05), мы не можем отбросить нулевую гипотезу. Значит, оценки в топе за год между собой не различаются.\n",
    "\n",
    "В этом параграфе мы провели три базовых статистических теста с помощью Python.\n",
    "\n",
    "Вы могли заметить общий принцип: мы формулируем гипотезы и подготавливаем данные, проводим сам тест и интерпретируем результаты.\n",
    "\n",
    "Тесты, которые вы узнали, можно использовать и для других задач:\n",
    "\n",
    "вычислить, испортится ли погода на курорте, куда вы собираетесь в отпуск, проанализировав данные за предыдущие года\n",
    "(анализ временных рядов);\n",
    "разбить квартиры на рынке недвижимости на группы, изучив, как меняется стоимость в зависимости от разных параметров \n",
    "(кластеризация);\n",
    "узнать, что ещё вам нужно изучить, чтобы зарабатывать больше, — протестировав критерии, которые особенно сильно влияют\n",
    "на уровень зарплат в вашей индустрии (линейная регрессия)."
   ]
  },
  {
   "cell_type": "code",
   "execution_count": null,
   "id": "4d0d8a59",
   "metadata": {},
   "outputs": [],
   "source": []
  }
 ],
 "metadata": {
  "kernelspec": {
   "display_name": "Python 3 (ipykernel)",
   "language": "python",
   "name": "python3"
  },
  "language_info": {
   "codemirror_mode": {
    "name": "ipython",
    "version": 3
   },
   "file_extension": ".py",
   "mimetype": "text/x-python",
   "name": "python",
   "nbconvert_exporter": "python",
   "pygments_lexer": "ipython3",
   "version": "3.9.13"
  }
 },
 "nbformat": 4,
 "nbformat_minor": 5
}
