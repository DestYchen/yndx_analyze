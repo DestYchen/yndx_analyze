{
 "cells": [
  {
   "cell_type": "code",
   "execution_count": 11,
   "id": "3a85701e",
   "metadata": {},
   "outputs": [
    {
     "data": {
      "text/plain": [
       "'Jeff Kinney'"
      ]
     },
     "execution_count": 11,
     "metadata": {},
     "output_type": "execute_result"
    }
   ],
   "source": [
    "import pandas as pd\n",
    "df = pd.read_csv(\"books_prep.csv\")\n",
    "print(df['Author'].describe()['top'])"
   ]
  },
  {
   "cell_type": "code",
   "execution_count": 18,
   "id": "c2054357",
   "metadata": {},
   "outputs": [
    {
     "name": "stdout",
     "output_type": "stream",
     "text": [
      "4.560103626943008\n"
     ]
    }
   ],
   "source": [
    "import pandas as pd\n",
    "df = pd.read_csv(\"books_prep.csv\")\n",
    "price_more = df[(df['Price (Above Average)']) == \"Yes\"]['User Rating'].mean()\n",
    "\n",
    "print(price_more)"
   ]
  },
  {
   "cell_type": "code",
   "execution_count": 19,
   "id": "39a3260b",
   "metadata": {},
   "outputs": [
    {
     "name": "stdout",
     "output_type": "stream",
     "text": [
      "4.649859943977591\n"
     ]
    }
   ],
   "source": [
    "import pandas as pd\n",
    "df = pd.read_csv(\"books_prep.csv\")\n",
    "price_less = df[(df['Price (Above Average)']) == \"No\"]['User Rating'].mean()\n",
    "\n",
    "print(price_less)"
   ]
  },
  {
   "cell_type": "code",
   "execution_count": 44,
   "id": "1b2f6848",
   "metadata": {},
   "outputs": [
    {
     "name": "stdout",
     "output_type": "stream",
     "text": [
      "0.10402083833234738\n"
     ]
    }
   ],
   "source": [
    "from scipy.stats import levene\n",
    "import pandas as pd\n",
    "df = pd.read_csv(\"books_prep.csv\")\n",
    "user_rating_more = df[(df['Price (Above Average)']) == \"Yes\"]['User Rating']\n",
    "user_rating_less = df[(df['Price (Above Average)']) == \"No\"]['User Rating']\n",
    "levval = levene(user_rating_more, user_rating_less).pvalue\n",
    "print(levval)"
   ]
  },
  {
   "cell_type": "code",
   "execution_count": 56,
   "id": "478d42cd",
   "metadata": {},
   "outputs": [
    {
     "data": {
      "text/plain": [
       "array([5, 4, 3], dtype=int64)"
      ]
     },
     "execution_count": 56,
     "metadata": {},
     "output_type": "execute_result"
    }
   ],
   "source": [
    "df[\"User Rating (Round)\"].unique()"
   ]
  },
  {
   "cell_type": "code",
   "execution_count": 50,
   "id": "37062713",
   "metadata": {},
   "outputs": [
    {
     "name": "stdout",
     "output_type": "stream",
     "text": [
      "8.190934970309897e-06\n"
     ]
    }
   ],
   "source": [
    "from scipy.stats import *\n",
    "import pandas as pd\n",
    "df = pd.read_csv(\"books_prep.csv\")\n",
    "user_rating_more = df[(df['Price (Above Average)']) == \"Yes\"]['User Rating']\n",
    "user_rating_less = df[(df['Price (Above Average)']) == \"No\"]['User Rating']\n",
    "print(ttest_ind(user_rating_more, user_rating_less, equal_var=True).pvalue)"
   ]
  },
  {
   "cell_type": "code",
   "execution_count": 60,
   "id": "fe4b1eee",
   "metadata": {},
   "outputs": [
    {
     "data": {
      "text/plain": [
       "0.2973862975123414"
      ]
     },
     "execution_count": 60,
     "metadata": {},
     "output_type": "execute_result"
    }
   ],
   "source": [
    "from scipy.stats import *\n",
    "import pandas as pd\n",
    "df = pd.read_csv(\"books_prep.csv\")\n",
    "user_rating_3 = df[(df[\"User Rating (Round)\"]) == 3][\"Reviews\"]\n",
    "user_rating_4 = df[(df[\"User Rating (Round)\"]) == 4][\"Reviews\"]\n",
    "user_rating_5 = df[(df[\"User Rating (Round)\"]) == 5][\"Reviews\"]\n",
    "print(f_oneway(user_rating_3, user_rating_4, user_rating_5).pvalue)"
   ]
  },
  {
   "cell_type": "code",
   "execution_count": 61,
   "id": "baa277ab",
   "metadata": {},
   "outputs": [
    {
     "data": {
      "text/html": [
       "<div>\n",
       "<style scoped>\n",
       "    .dataframe tbody tr th:only-of-type {\n",
       "        vertical-align: middle;\n",
       "    }\n",
       "\n",
       "    .dataframe tbody tr th {\n",
       "        vertical-align: top;\n",
       "    }\n",
       "\n",
       "    .dataframe thead th {\n",
       "        text-align: right;\n",
       "    }\n",
       "</style>\n",
       "<table border=\"1\" class=\"dataframe\">\n",
       "  <thead>\n",
       "    <tr style=\"text-align: right;\">\n",
       "      <th></th>\n",
       "      <th>Name</th>\n",
       "      <th>Author</th>\n",
       "      <th>User Rating</th>\n",
       "      <th>Reviews</th>\n",
       "      <th>Price</th>\n",
       "      <th>Year</th>\n",
       "      <th>Genre</th>\n",
       "      <th>User Rating (Round)</th>\n",
       "      <th>Price (Above Average)</th>\n",
       "    </tr>\n",
       "  </thead>\n",
       "  <tbody>\n",
       "    <tr>\n",
       "      <th>0</th>\n",
       "      <td>10-Day Green Smoothie Cleanse</td>\n",
       "      <td>JJ Smith</td>\n",
       "      <td>4.7</td>\n",
       "      <td>17350</td>\n",
       "      <td>8</td>\n",
       "      <td>2016</td>\n",
       "      <td>Non Fiction</td>\n",
       "      <td>5</td>\n",
       "      <td>No</td>\n",
       "    </tr>\n",
       "    <tr>\n",
       "      <th>1</th>\n",
       "      <td>11/22/63: A Novel</td>\n",
       "      <td>Stephen King</td>\n",
       "      <td>4.6</td>\n",
       "      <td>2052</td>\n",
       "      <td>22</td>\n",
       "      <td>2011</td>\n",
       "      <td>Fiction</td>\n",
       "      <td>5</td>\n",
       "      <td>Yes</td>\n",
       "    </tr>\n",
       "    <tr>\n",
       "      <th>2</th>\n",
       "      <td>12 Rules for Life: An Antidote to Chaos</td>\n",
       "      <td>Jordan B. Peterson</td>\n",
       "      <td>4.7</td>\n",
       "      <td>18979</td>\n",
       "      <td>15</td>\n",
       "      <td>2018</td>\n",
       "      <td>Non Fiction</td>\n",
       "      <td>5</td>\n",
       "      <td>Yes</td>\n",
       "    </tr>\n",
       "    <tr>\n",
       "      <th>3</th>\n",
       "      <td>1984 (Signet Classics)</td>\n",
       "      <td>George Orwell</td>\n",
       "      <td>4.7</td>\n",
       "      <td>21424</td>\n",
       "      <td>6</td>\n",
       "      <td>2017</td>\n",
       "      <td>Fiction</td>\n",
       "      <td>5</td>\n",
       "      <td>No</td>\n",
       "    </tr>\n",
       "    <tr>\n",
       "      <th>4</th>\n",
       "      <td>5,000 Awesome Facts (About Everything!) (Natio...</td>\n",
       "      <td>National Geographic Kids</td>\n",
       "      <td>4.8</td>\n",
       "      <td>7665</td>\n",
       "      <td>12</td>\n",
       "      <td>2019</td>\n",
       "      <td>Non Fiction</td>\n",
       "      <td>5</td>\n",
       "      <td>No</td>\n",
       "    </tr>\n",
       "    <tr>\n",
       "      <th>...</th>\n",
       "      <td>...</td>\n",
       "      <td>...</td>\n",
       "      <td>...</td>\n",
       "      <td>...</td>\n",
       "      <td>...</td>\n",
       "      <td>...</td>\n",
       "      <td>...</td>\n",
       "      <td>...</td>\n",
       "      <td>...</td>\n",
       "    </tr>\n",
       "    <tr>\n",
       "      <th>545</th>\n",
       "      <td>Wrecking Ball (Diary of a Wimpy Kid Book 14)</td>\n",
       "      <td>Jeff Kinney</td>\n",
       "      <td>4.9</td>\n",
       "      <td>9413</td>\n",
       "      <td>8</td>\n",
       "      <td>2019</td>\n",
       "      <td>Fiction</td>\n",
       "      <td>5</td>\n",
       "      <td>No</td>\n",
       "    </tr>\n",
       "    <tr>\n",
       "      <th>546</th>\n",
       "      <td>You Are a Badass: How to Stop Doubting Your Gr...</td>\n",
       "      <td>Jen Sincero</td>\n",
       "      <td>4.7</td>\n",
       "      <td>14331</td>\n",
       "      <td>8</td>\n",
       "      <td>2016</td>\n",
       "      <td>Non Fiction</td>\n",
       "      <td>5</td>\n",
       "      <td>No</td>\n",
       "    </tr>\n",
       "    <tr>\n",
       "      <th>547</th>\n",
       "      <td>You Are a Badass: How to Stop Doubting Your Gr...</td>\n",
       "      <td>Jen Sincero</td>\n",
       "      <td>4.7</td>\n",
       "      <td>14331</td>\n",
       "      <td>8</td>\n",
       "      <td>2017</td>\n",
       "      <td>Non Fiction</td>\n",
       "      <td>5</td>\n",
       "      <td>No</td>\n",
       "    </tr>\n",
       "    <tr>\n",
       "      <th>548</th>\n",
       "      <td>You Are a Badass: How to Stop Doubting Your Gr...</td>\n",
       "      <td>Jen Sincero</td>\n",
       "      <td>4.7</td>\n",
       "      <td>14331</td>\n",
       "      <td>8</td>\n",
       "      <td>2018</td>\n",
       "      <td>Non Fiction</td>\n",
       "      <td>5</td>\n",
       "      <td>No</td>\n",
       "    </tr>\n",
       "    <tr>\n",
       "      <th>549</th>\n",
       "      <td>You Are a Badass: How to Stop Doubting Your Gr...</td>\n",
       "      <td>Jen Sincero</td>\n",
       "      <td>4.7</td>\n",
       "      <td>14331</td>\n",
       "      <td>8</td>\n",
       "      <td>2019</td>\n",
       "      <td>Non Fiction</td>\n",
       "      <td>5</td>\n",
       "      <td>No</td>\n",
       "    </tr>\n",
       "  </tbody>\n",
       "</table>\n",
       "<p>550 rows × 9 columns</p>\n",
       "</div>"
      ],
      "text/plain": [
       "                                                  Name  \\\n",
       "0                        10-Day Green Smoothie Cleanse   \n",
       "1                                    11/22/63: A Novel   \n",
       "2              12 Rules for Life: An Antidote to Chaos   \n",
       "3                               1984 (Signet Classics)   \n",
       "4    5,000 Awesome Facts (About Everything!) (Natio...   \n",
       "..                                                 ...   \n",
       "545       Wrecking Ball (Diary of a Wimpy Kid Book 14)   \n",
       "546  You Are a Badass: How to Stop Doubting Your Gr...   \n",
       "547  You Are a Badass: How to Stop Doubting Your Gr...   \n",
       "548  You Are a Badass: How to Stop Doubting Your Gr...   \n",
       "549  You Are a Badass: How to Stop Doubting Your Gr...   \n",
       "\n",
       "                       Author  User Rating  Reviews  Price  Year        Genre  \\\n",
       "0                    JJ Smith          4.7    17350      8  2016  Non Fiction   \n",
       "1                Stephen King          4.6     2052     22  2011      Fiction   \n",
       "2          Jordan B. Peterson          4.7    18979     15  2018  Non Fiction   \n",
       "3               George Orwell          4.7    21424      6  2017      Fiction   \n",
       "4    National Geographic Kids          4.8     7665     12  2019  Non Fiction   \n",
       "..                        ...          ...      ...    ...   ...          ...   \n",
       "545               Jeff Kinney          4.9     9413      8  2019      Fiction   \n",
       "546               Jen Sincero          4.7    14331      8  2016  Non Fiction   \n",
       "547               Jen Sincero          4.7    14331      8  2017  Non Fiction   \n",
       "548               Jen Sincero          4.7    14331      8  2018  Non Fiction   \n",
       "549               Jen Sincero          4.7    14331      8  2019  Non Fiction   \n",
       "\n",
       "     User Rating (Round) Price (Above Average)  \n",
       "0                      5                    No  \n",
       "1                      5                   Yes  \n",
       "2                      5                   Yes  \n",
       "3                      5                    No  \n",
       "4                      5                    No  \n",
       "..                   ...                   ...  \n",
       "545                    5                    No  \n",
       "546                    5                    No  \n",
       "547                    5                    No  \n",
       "548                    5                    No  \n",
       "549                    5                    No  \n",
       "\n",
       "[550 rows x 9 columns]"
      ]
     },
     "execution_count": 61,
     "metadata": {},
     "output_type": "execute_result"
    }
   ],
   "source": [
    "df"
   ]
  },
  {
   "cell_type": "code",
   "execution_count": null,
   "id": "398f6278",
   "metadata": {},
   "outputs": [],
   "source": []
  }
 ],
 "metadata": {
  "kernelspec": {
   "display_name": "Python 3 (ipykernel)",
   "language": "python",
   "name": "python3"
  },
  "language_info": {
   "codemirror_mode": {
    "name": "ipython",
    "version": 3
   },
   "file_extension": ".py",
   "mimetype": "text/x-python",
   "name": "python",
   "nbconvert_exporter": "python",
   "pygments_lexer": "ipython3",
   "version": "3.9.13"
  }
 },
 "nbformat": 4,
 "nbformat_minor": 5
}
