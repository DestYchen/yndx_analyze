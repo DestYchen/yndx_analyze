{
 "cells": [
  {
   "cell_type": "code",
   "execution_count": 3,
   "id": "c4193340",
   "metadata": {},
   "outputs": [
    {
     "name": "stdout",
     "output_type": "stream",
     "text": [
      "7.769\n",
      "2.853\n"
     ]
    }
   ],
   "source": [
    "import pandas as pd\n",
    "df = pd.read_csv('2019.csv')\n",
    "print(df['Score'].max())\n",
    "print(df['Score'].min())"
   ]
  },
  {
   "cell_type": "code",
   "execution_count": 4,
   "id": "6e3d372b",
   "metadata": {},
   "outputs": [
    {
     "name": "stdout",
     "output_type": "stream",
     "text": [
      "5.407096153846153\n"
     ]
    }
   ],
   "source": [
    "import pandas as pd\n",
    "df = pd.read_csv('2019.csv')\n",
    "print(df['Score'].mean())"
   ]
  },
  {
   "cell_type": "code",
   "execution_count": 5,
   "id": "6f96a4ba",
   "metadata": {},
   "outputs": [
    {
     "name": "stdout",
     "output_type": "stream",
     "text": [
      "5.3795\n"
     ]
    }
   ],
   "source": [
    "import pandas as pd\n",
    "df = pd.read_csv('2019.csv')\n",
    "print(df['Score'].median())"
   ]
  },
  {
   "cell_type": "code",
   "execution_count": 7,
   "id": "93d0c6f9",
   "metadata": {},
   "outputs": [
    {
     "name": "stdout",
     "output_type": "stream",
     "text": [
      "5.208\n"
     ]
    }
   ],
   "source": [
    "import pandas as pd\n",
    "df = pd.read_csv('2019.csv')\n",
    "print(df['Score'].mode()[0]) #мод может быть несолько, поэтому возвращается массив данных, в котором мы уже выбираем нужную нам моду"
   ]
  },
  {
   "cell_type": "code",
   "execution_count": 8,
   "id": "ecf73afc",
   "metadata": {},
   "outputs": [
    {
     "name": "stdout",
     "output_type": "stream",
     "text": [
      "1.1131198687956712\n"
     ]
    }
   ],
   "source": [
    "import pandas as pd\n",
    "df = pd.read_csv('2019.csv')\n",
    "print(df['Score'].std())"
   ]
  },
  {
   "cell_type": "code",
   "execution_count": 29,
   "id": "195196aa",
   "metadata": {},
   "outputs": [
    {
     "data": {
      "text/plain": [
       "['Finland',\n",
       " 'Denmark',\n",
       " 'Norway',\n",
       " 'Iceland',\n",
       " 'Netherlands',\n",
       " 'Switzerland',\n",
       " 'Sweden',\n",
       " 'New Zealand',\n",
       " 'Canada',\n",
       " 'Austria']"
      ]
     },
     "execution_count": 29,
     "metadata": {},
     "output_type": "execute_result"
    }
   ],
   "source": [
    "import pandas as pd\n",
    "df = pd.read_csv('2019.csv')\n",
    "print(df['Country or region'].values[0:10].tolist())"
   ]
  },
  {
   "cell_type": "code",
   "execution_count": 30,
   "id": "ab547c7b",
   "metadata": {},
   "outputs": [
    {
     "name": "stdout",
     "output_type": "stream",
     "text": [
      "141.203\n"
     ]
    }
   ],
   "source": [
    "import pandas as pd\n",
    "df = pd.read_csv('2019.csv')\n",
    "print(df['GDP per capita'].sum())"
   ]
  },
  {
   "cell_type": "code",
   "execution_count": 31,
   "id": "93d3997c",
   "metadata": {},
   "outputs": [
    {
     "name": "stdout",
     "output_type": "stream",
     "text": [
      "13.87\n"
     ]
    }
   ],
   "source": [
    "import pandas as pd\n",
    "df = pd.read_csv('2019.csv')\n",
    "print(df['GDP per capita'].values[0:10].sum())"
   ]
  },
  {
   "cell_type": "code",
   "execution_count": null,
   "id": "5abbe3e8",
   "metadata": {},
   "outputs": [],
   "source": []
  }
 ],
 "metadata": {
  "kernelspec": {
   "display_name": "Python 3 (ipykernel)",
   "language": "python",
   "name": "python3"
  },
  "language_info": {
   "codemirror_mode": {
    "name": "ipython",
    "version": 3
   },
   "file_extension": ".py",
   "mimetype": "text/x-python",
   "name": "python",
   "nbconvert_exporter": "python",
   "pygments_lexer": "ipython3",
   "version": "3.9.13"
  }
 },
 "nbformat": 4,
 "nbformat_minor": 5
}
